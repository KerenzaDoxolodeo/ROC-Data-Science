{
 "cells": [
  {
   "cell_type": "markdown",
   "metadata": {
    "collapsed": false
   },
   "source": [
    "Tugas dari kelas Fun with Data Science adalah menganalisis apakah sebuat Tweet memiliki mood yang positif atau mood yang negatif.\n",
    "\n",
    "Pertama, kita harus mengimport nltk. Install dulu nltk. Jika anaconda adalah intepreter default, untuk menginstall di command prompt..."
   ]
  },
  {
   "cell_type": "markdown",
   "metadata": {},
   "source": [
    "*pip install -U nltk.*"
   ]
  },
  {
   "cell_type": "code",
   "execution_count": 1,
   "metadata": {
    "collapsed": true
   },
   "outputs": [],
   "source": [
    "import nltk"
   ]
  },
  {
   "cell_type": "markdown",
   "metadata": {},
   "source": [
    "Note: nltk itu besar jadi butuh waktu lama\n",
    "\n",
    "nltk adalah library khusus memproses data string. nltk adalah library data science khusus data berbentuk kata. \n",
    "Jika ini pertama kali memakai nltk, kamu harus panggil nltk.download"
   ]
  },
  {
   "cell_type": "code",
   "execution_count": 2,
   "metadata": {
    "collapsed": false
   },
   "outputs": [
    {
     "data": {
      "text/plain": [
       "\"\\nUntuk memanggil nltk.download(), hilangkan '#' dari line kode\\n\""
      ]
     },
     "execution_count": 2,
     "metadata": {},
     "output_type": "execute_result"
    }
   ],
   "source": [
    "'''\n",
    "Untuk memanggil nltk.download(), hilangkan '#' dari line kode\n",
    "'''\n",
    "# nltk.download()"
   ]
  },
  {
   "cell_type": "markdown",
   "metadata": {},
   "source": [
    "Nanti akan muncul GUI untuk download corpus. Corpus adalah koleksi data-data kalimat yang bisa didownload. Minimal salah satu sudah didownlad agar nltk berjalan. Yang paling bawah didownoad (yang download all book) itu cukup untuk jalanin nltk download(), meskipun idealnya download all. \n",
    "\n",
    "Warning: Don't do this with kuota\n",
    "\n",
    "Selanjutnya, kita import pandas"
   ]
  },
  {
   "cell_type": "code",
   "execution_count": 3,
   "metadata": {
    "collapsed": true
   },
   "outputs": [],
   "source": [
    "import pandas as pd"
   ]
  },
  {
   "cell_type": "markdown",
   "metadata": {},
   "source": [
    "Sakah satu permasalahan adalah data handling? Di DDP, kita data handling dengan dictionary dan list. Apa ini artinya kita harus pakai list dan dictionary?\n",
    "\n",
    "<img src=\"http://s2.quickmeme.com/img/34/34c5a5d89699a28f2486c23c5b381486b62553f3eba9ebaccf36df6306494e00.jpg\"/>\n",
    "\n",
    "Please. Kita pakai pandas. Dalam Data Science, kita tidak menggunakan dictonary atau list, tetapi DataFrame. DataFrame pada dasarnya OOP version of dictionary.\n",
    "\n",
    "Dan kita akan melihat manfaatnya sekarang."
   ]
  },
  {
   "cell_type": "markdown",
   "metadata": {},
   "source": [
    "Download datanya di sini. Kalau pakai github, pull request atau clone buat ngambil data. Pastikan:\n",
    "\n",
    "a) Tidak pakai internet berkuota\n",
    "\n",
    "b) Satu folder dengan file jupyter python ini.\n",
    "\n",
    "File .zip nya diextract dan ditaruh satu folder dengan file python jupiter. Kalau mau ngeview file ini, rekomendasi pakai Sublime Text. Notepad++ boros memory dan kebanting data gede.\n",
    "\n",
    "Sudah ke download datanya? Gut. Sekarang, baca filenya, lalu simpan dalam satu variabel?\n",
    "\n",
    "Masukin pakai list dan dictionary? Ribet. Harus bikin `open('file.csv','r')`?"
   ]
  },
  {
   "cell_type": "code",
   "execution_count": 4,
   "metadata": {
    "collapsed": false
   },
   "outputs": [
    {
     "name": "stderr",
     "output_type": "stream",
     "text": [
      "b'Skipping line 8836: expected 4 fields, saw 5\\n'\n",
      "b'Skipping line 535882: expected 4 fields, saw 7\\n'\n"
     ]
    }
   ],
   "source": [
    "W = pd.read_csv(\"Sentiment Analysis Dataset.csv\",error_bad_lines =False)"
   ]
  },
  {
   "cell_type": "markdown",
   "metadata": {},
   "source": [
    "*Let me explain*\n",
    "\n",
    "Library pandas mempunyai fungsi yang mengubah file csv menjada dataFrame pandas.\n",
    "\n",
    "csv adalah satu jenis file yang sering dipakai untuk menyimpan data. Umumnya, orang jika menyimpan data, menggunakan benda-benda seperti SQL. Bagaimana jika mau dalam bentuk txt? Pakai csv. Untuk csv, setiap baris data dibedakan oleh koma.\n",
    "\n",
    "Data dibedakan per baris dengan **koma**.\n",
    ".csv artinyaa **comma** seperated value.\n",
    "\n",
    "=D\n",
    "\n",
    "Fungsi dari argument `error_bad_lines` adalah untuk membuang data yang tidak baik, karena tidak semua data itu 100% kece formattingnya.\n",
    "\n",
    "Berapa banyak tweet yang harus dianalisis?"
   ]
  },
  {
   "cell_type": "code",
   "execution_count": 5,
   "metadata": {
    "collapsed": false
   },
   "outputs": [
    {
     "name": "stdout",
     "output_type": "stream",
     "text": [
      "Jumlah tweet adalah 1578612\n"
     ]
    }
   ],
   "source": [
    "print(\"Jumlah tweet adalah %d\" % (len(W)))"
   ]
  },
  {
   "cell_type": "markdown",
   "metadata": {},
   "source": [
    "Jumlah tweet yang harus dianalisis 1.5 juta tweet?\n",
    "\n",
    "<img src=\"https://a.dilcdn.com/bl/wp-content/uploads/sites/8/2012/12/10-of-the-best-grumpy-cat-memes.png\"/>\n",
    "    \n",
    "Yes.\n",
    "\n",
    "Tugas selanjutnya adalah mengprint data?\n",
    "\n",
    "Mau print data 1.5 juta?"
   ]
  },
  {
   "cell_type": "code",
   "execution_count": 6,
   "metadata": {
    "collapsed": false
   },
   "outputs": [
    {
     "data": {
      "text/html": [
       "<div>\n",
       "<table border=\"1\" class=\"dataframe\">\n",
       "  <thead>\n",
       "    <tr style=\"text-align: right;\">\n",
       "      <th></th>\n",
       "      <th>﻿ItemID</th>\n",
       "      <th>Sentiment</th>\n",
       "      <th>SentimentSource</th>\n",
       "      <th>SentimentText</th>\n",
       "    </tr>\n",
       "  </thead>\n",
       "  <tbody>\n",
       "    <tr>\n",
       "      <th>0</th>\n",
       "      <td>1</td>\n",
       "      <td>0</td>\n",
       "      <td>Sentiment140</td>\n",
       "      <td>is so sad for my APL frie...</td>\n",
       "    </tr>\n",
       "    <tr>\n",
       "      <th>1</th>\n",
       "      <td>2</td>\n",
       "      <td>0</td>\n",
       "      <td>Sentiment140</td>\n",
       "      <td>I missed the New Moon trail...</td>\n",
       "    </tr>\n",
       "    <tr>\n",
       "      <th>2</th>\n",
       "      <td>3</td>\n",
       "      <td>1</td>\n",
       "      <td>Sentiment140</td>\n",
       "      <td>omg its already 7:30 :O</td>\n",
       "    </tr>\n",
       "    <tr>\n",
       "      <th>3</th>\n",
       "      <td>4</td>\n",
       "      <td>0</td>\n",
       "      <td>Sentiment140</td>\n",
       "      <td>.. Omgaga. Im sooo  im gunna CRy. I'...</td>\n",
       "    </tr>\n",
       "    <tr>\n",
       "      <th>4</th>\n",
       "      <td>5</td>\n",
       "      <td>0</td>\n",
       "      <td>Sentiment140</td>\n",
       "      <td>i think mi bf is cheating on me!!!   ...</td>\n",
       "    </tr>\n",
       "  </tbody>\n",
       "</table>\n",
       "</div>"
      ],
      "text/plain": [
       "   ﻿ItemID  Sentiment SentimentSource  \\\n",
       "0        1          0    Sentiment140   \n",
       "1        2          0    Sentiment140   \n",
       "2        3          1    Sentiment140   \n",
       "3        4          0    Sentiment140   \n",
       "4        5          0    Sentiment140   \n",
       "\n",
       "                                       SentimentText  \n",
       "0                       is so sad for my APL frie...  \n",
       "1                     I missed the New Moon trail...  \n",
       "2                            omg its already 7:30 :O  \n",
       "3            .. Omgaga. Im sooo  im gunna CRy. I'...  \n",
       "4           i think mi bf is cheating on me!!!   ...  "
      ]
     },
     "execution_count": 6,
     "metadata": {},
     "output_type": "execute_result"
    }
   ],
   "source": [
    "W.head()"
   ]
  },
  {
   "cell_type": "markdown",
   "metadata": {},
   "source": [
    "Fungsi dari W.head() adalah untuk menunjukan lima data pertama sehingga kita bisa lihat datanya. Sebelumnya, saya akan memperkenalkan data. Ada Empat jenis baris di data yang kita pakai.\n",
    "\n",
    "* ItemID : Urutan ID\n",
    "* Sentiment : Mood Tweet. 0 jika negatif. 1 jika positif.\n",
    "* SentimentSource : Dari mana datanya?\n",
    "* SentimentText : Tweet tersebut.\n",
    "\n",
    "Kalau kita perhatikan, kita tidak butuh `ItemID` karena sudah ada urutannya dan `SentimentSource`.\n",
    "\n",
    "Kita buang saja?"
   ]
  },
  {
   "cell_type": "code",
   "execution_count": 7,
   "metadata": {
    "collapsed": false
   },
   "outputs": [
    {
     "data": {
      "text/html": [
       "<div>\n",
       "<table border=\"1\" class=\"dataframe\">\n",
       "  <thead>\n",
       "    <tr style=\"text-align: right;\">\n",
       "      <th></th>\n",
       "      <th>Sentiment</th>\n",
       "      <th>SentimentText</th>\n",
       "    </tr>\n",
       "  </thead>\n",
       "  <tbody>\n",
       "    <tr>\n",
       "      <th>0</th>\n",
       "      <td>0</td>\n",
       "      <td>is so sad for my APL frie...</td>\n",
       "    </tr>\n",
       "    <tr>\n",
       "      <th>1</th>\n",
       "      <td>0</td>\n",
       "      <td>I missed the New Moon trail...</td>\n",
       "    </tr>\n",
       "    <tr>\n",
       "      <th>2</th>\n",
       "      <td>1</td>\n",
       "      <td>omg its already 7:30 :O</td>\n",
       "    </tr>\n",
       "    <tr>\n",
       "      <th>3</th>\n",
       "      <td>0</td>\n",
       "      <td>.. Omgaga. Im sooo  im gunna CRy. I'...</td>\n",
       "    </tr>\n",
       "    <tr>\n",
       "      <th>4</th>\n",
       "      <td>0</td>\n",
       "      <td>i think mi bf is cheating on me!!!   ...</td>\n",
       "    </tr>\n",
       "  </tbody>\n",
       "</table>\n",
       "</div>"
      ],
      "text/plain": [
       "   Sentiment                                      SentimentText\n",
       "0          0                       is so sad for my APL frie...\n",
       "1          0                     I missed the New Moon trail...\n",
       "2          1                            omg its already 7:30 :O\n",
       "3          0            .. Omgaga. Im sooo  im gunna CRy. I'...\n",
       "4          0           i think mi bf is cheating on me!!!   ..."
      ]
     },
     "execution_count": 7,
     "metadata": {},
     "output_type": "execute_result"
    }
   ],
   "source": [
    "W = W.drop(W.columns[[0, 2]], axis=1)\n",
    "W.head()"
   ]
  },
  {
   "cell_type": "markdown",
   "metadata": {},
   "source": [
    "Aku akan jelaskan tujuan dari Data Science ini. Dalam data science, ada variabel yang diketahui (dalam kasus ini SentimentText). Tujuan dari Data ini adalah untuk menebak apakah tweet itu moodnya positif atau negatif.\n",
    "\n",
    "Jika sentiment = 0 -> moodnya itu negatif.\n",
    "Jika sentimen  = 1 -> moodnya itu positif.\n",
    "\n",
    "Cek nomor #4 di atas.\n",
    "\n",
    "`I think mi bf is cheating on me!!!`\n",
    "\n",
    "Kalau kita perhatikan, disamping teks itu di #4, sentiment = 0. Artinya `I think mi bf is cheating on me` itu mood tweetnya negatif.\n",
    "\n",
    "Tugas kita, membuat algoritma sehingga akurasi prediksi apakan sentimentText itu 0 (negaitf) atau 1 (positf) seakurat mungkin.\n",
    "\n",
    "Tetapi sebelumnya, kita harus cek data.."
   ]
  },
  {
   "cell_type": "code",
   "execution_count": 8,
   "metadata": {
    "collapsed": false
   },
   "outputs": [
    {
     "data": {
      "text/plain": [
       "'                     is so sad for my APL friend.............'"
      ]
     },
     "execution_count": 8,
     "metadata": {},
     "output_type": "execute_result"
    }
   ],
   "source": [
    "wordList = W['SentimentText'].tolist()\n",
    "wordList[0]"
   ]
  },
  {
   "cell_type": "markdown",
   "metadata": {},
   "source": [
    "Hmmmm. Spasinya kok ada banyak ya? Kita harus mengsanitasi data."
   ]
  },
  {
   "cell_type": "code",
   "execution_count": 9,
   "metadata": {
    "collapsed": false
   },
   "outputs": [],
   "source": [
    "wordList = [I.replace(\"  \",\"\") for I in wordList]"
   ]
  },
  {
   "cell_type": "code",
   "execution_count": 10,
   "metadata": {
    "collapsed": false
   },
   "outputs": [
    {
     "name": "stdout",
     "output_type": "stream",
     "text": [
      " is so sad for my APL friend.............\n"
     ]
    },
    {
     "data": {
      "text/html": [
       "<div>\n",
       "<table border=\"1\" class=\"dataframe\">\n",
       "  <thead>\n",
       "    <tr style=\"text-align: right;\">\n",
       "      <th></th>\n",
       "      <th>Sentiment</th>\n",
       "      <th>SentimentText</th>\n",
       "    </tr>\n",
       "  </thead>\n",
       "  <tbody>\n",
       "    <tr>\n",
       "      <th>0</th>\n",
       "      <td>0</td>\n",
       "      <td>is so sad for my APL friend.............</td>\n",
       "    </tr>\n",
       "    <tr>\n",
       "      <th>1</th>\n",
       "      <td>0</td>\n",
       "      <td>I missed the New Moon trailer...</td>\n",
       "    </tr>\n",
       "    <tr>\n",
       "      <th>2</th>\n",
       "      <td>1</td>\n",
       "      <td>omg its already 7:30 :O</td>\n",
       "    </tr>\n",
       "    <tr>\n",
       "      <th>3</th>\n",
       "      <td>0</td>\n",
       "      <td>.. Omgaga. Im soooim gunna CRy. I've been at t...</td>\n",
       "    </tr>\n",
       "    <tr>\n",
       "      <th>4</th>\n",
       "      <td>0</td>\n",
       "      <td>i think mi bf is cheating on me!!! T_T</td>\n",
       "    </tr>\n",
       "  </tbody>\n",
       "</table>\n",
       "</div>"
      ],
      "text/plain": [
       "   Sentiment                                      SentimentText\n",
       "0          0           is so sad for my APL friend.............\n",
       "1          0                   I missed the New Moon trailer...\n",
       "2          1                            omg its already 7:30 :O\n",
       "3          0  .. Omgaga. Im soooim gunna CRy. I've been at t...\n",
       "4          0             i think mi bf is cheating on me!!! T_T"
      ]
     },
     "execution_count": 10,
     "metadata": {},
     "output_type": "execute_result"
    }
   ],
   "source": [
    "print(wordList[0])\n",
    "W['SentimentText'] = wordList\n",
    "W.head()"
   ]
  },
  {
   "cell_type": "markdown",
   "metadata": {},
   "source": [
    "Selanjutnya. Kita harus membuat `bag of words` yang merupakan koleksi kata. Kita bisa memakai `nltk_tokenize(x)` untuk membuat `bag of words`\n",
    "\n",
    "Mungkin nona bertanya, untuk apa `bag of words`? Ikuti saja tanpa bertanya."
   ]
  },
  {
   "cell_type": "code",
   "execution_count": 11,
   "metadata": {
    "collapsed": false
   },
   "outputs": [],
   "source": [
    "bag = [nltk.word_tokenize(x) for x in wordList]"
   ]
  },
  {
   "cell_type": "code",
   "execution_count": null,
   "metadata": {
    "collapsed": false
   },
   "outputs": [
    {
     "name": "stdout",
     "output_type": "stream",
     "text": [
      "['is', 'so', 'sad', 'for', 'my', 'APL', 'friend', '...', '...', '...', '...', '.']\n"
     ]
    }
   ],
   "source": [
    "print(bag[0])"
   ]
  },
  {
   "cell_type": "markdown",
   "metadata": {},
   "source": [
    "Fungsi dari nltk.word_tokenize() adalah untuk mensplit kata. Seperti word.split(\" \") tetapi lebih gokil.\n",
    "\n",
    "Ok. Kita sudah hampir selesai memproses datanya. Ini langkah terakhir. Setelah langkah ini selesai, bakal masuk yang mulai bau-baunya *Data Science*."
   ]
  },
  {
   "cell_type": "markdown",
   "metadata": {},
   "source": [
    "Ini mungkin terdengar aneh. Jika kamu anak CP, anak Toki, anak INPC, maka kamu terbiasa dengan istilah\n",
    "\n",
    "`Kamu yang mencari algo`\n",
    "\n",
    "Maka di Data Science...\n",
    "\n",
    "`Algo yang mencari kamu`\n",
    "\n",
    "Lupakan kegilaan yang lo alami di Competitive Programming. `Anjir, Binary Segment Tree masih TLE? Kampret.`\n",
    "\n",
    "--------------------\n",
    "\n",
    "Ini serius. Dalam Data Science, kita mengenal apa yang disebut sebagai predictive model. Predictive model adalah algo yang mencari algo yang cocok untuk data.\n",
    "\n",
    "Lalu apa tujuan Data Science?\n",
    "\n",
    "a) Mencari algo yang tepat untuk mencari algo yang tepat untuk data kita\n",
    "\n",
    "b) Mempersiapkan data untuk membantu kita mencari algo.\n",
    "\n",
    "c) Visualisasi data. Menyampaikan apa yang kita pelajari. #MPKT #PBL\n",
    "\n",
    "d) Mengaplikasikan apa yang kita ketahui ke praktik. Sebagai contoh, setelah kita mempelajari bagaimana cara memprediksi apa yang dibeli konsumen, seorang data scientist harus bisa bekerja sama dengan server-end developer untuk mengaplikasikan ilmunya ke sistem.\n",
    "\n",
    "Dalam Tutorial ini, kita akan fokus di bagian b). Di tutorial selanjutnya, kita akan mulai bergeser ke a).\n",
    "\n",
    "\n",
    "Algo yang kita pakai di a) adalah algo yang ada hubungannya dengan statsprob. Untuk mempersiapkan data, kita ingin tahu, berapa kali sih sebuah kata muncul dalam tweet yang negatif? Berapa kali sih sebuah kata muncul dalam tweet yang positif?"
   ]
  },
  {
   "cell_type": "code",
   "execution_count": null,
   "metadata": {
    "collapsed": false
   },
   "outputs": [],
   "source": [
    "word = []\n",
    "negative = []\n",
    "positive = []\n",
    "for baris in range(len(bag)):\n",
    "    data = list(W.loc[baris])\n",
    "    sentiment = data[0]\n",
    "    for kata in bag[baris]:\n",
    "        if kata not in word:\n",
    "            word.append(kata)\n",
    "            negative.append(0)\n",
    "            positive.append(0)\n",
    "            if sentiment:\n",
    "                positive[-1] += 1\n",
    "            else:\n",
    "                negative[-1] += 1  \n",
    "        if kata in word:\n",
    "            C = word.index(kata)\n",
    "            if sentiment:\n",
    "                positive[C] += 1\n",
    "            else:\n",
    "                negative[C] += 1           "
   ]
  },
  {
   "cell_type": "code",
   "execution_count": null,
   "metadata": {
    "collapsed": false
   },
   "outputs": [],
   "source": [
    "sentimentList = pd.DataFrame({'kata':word,'+':positive,'-':negative})\n",
    "sentimentList.head()"
   ]
  },
  {
   "cell_type": "markdown",
   "metadata": {},
   "source": [
    "Kita sudah capek-capek ngejalanin file, sampai 6 jam kalau 1.5 tweet di proses, sayang kan kalau datanya hilang ada begitu di exit?\n",
    "Kita simpan datanya dalam bentuk SQL. =D"
   ]
  },
  {
   "cell_type": "code",
   "execution_count": null,
   "metadata": {
    "collapsed": false
   },
   "outputs": [],
   "source": [
    "T = sentimentList\n",
    "print(T.loc[1]['kata'])"
   ]
  },
  {
   "cell_type": "code",
   "execution_count": null,
   "metadata": {
    "collapsed": false
   },
   "outputs": [],
   "source": [
    "import sqlite3\n",
    "conn = sqlite3.connect('data.db')\n",
    "c = conn.cursor()\n",
    "try:\n",
    "    conn.execute('''CREATE TABLE sentimen\n",
    "             (kata text, positif real, negatif real);''')\n",
    "except:\n",
    "    conn.execute('''DROP TABLE sentimen;''')\n",
    "    c.execute('''CREATE TABLE sentimen\n",
    "             (kata text, positif real, negatif real);''')\n",
    "\n",
    "query = '''INSERT INTO sentimen VALUES(\"%s\",%d,%d);'''\n",
    "for I in range(len(sentimentList)):\n",
    "    data = T.loc[I]\n",
    "    c.execute(query%(data['kata'],data['+'],data['-']))\n",
    "conn.commit()"
   ]
  },
  {
   "cell_type": "markdown",
   "metadata": {},
   "source": [
    "Cek folder. Ada file data.db tiba-tiba. Weh! Kita selesai memproses data! =D"
   ]
  },
  {
   "cell_type": "markdown",
   "metadata": {},
   "source": [
    "`Disadur oleh Kerenza Doxolodeo. Diambil dari Data is Fun! Ristek OpenClass 2016`"
   ]
  },
  {
   "cell_type": "code",
   "execution_count": null,
   "metadata": {
    "collapsed": true
   },
   "outputs": [],
   "source": []
  }
 ],
 "metadata": {
  "kernelspec": {
   "display_name": "Python [Root]",
   "language": "python",
   "name": "Python [Root]"
  },
  "language_info": {
   "codemirror_mode": {
    "name": "ipython",
    "version": 3
   },
   "file_extension": ".py",
   "mimetype": "text/x-python",
   "name": "python",
   "nbconvert_exporter": "python",
   "pygments_lexer": "ipython3",
   "version": "3.5.2"
  }
 },
 "nbformat": 4,
 "nbformat_minor": 0
}
